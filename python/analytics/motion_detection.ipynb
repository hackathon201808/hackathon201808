{
 "cells": [
  {
   "cell_type": "code",
   "execution_count": 12,
   "metadata": {},
   "outputs": [],
   "source": [
    "import pandas as pd\n",
    "import matplotlib.pyplot as plt\n",
    "\n",
    "%matplotlib inline"
   ]
  },
  {
   "cell_type": "code",
   "execution_count": 19,
   "metadata": {},
   "outputs": [],
   "source": [
    "def load_file(file_name):\n",
    "    data_frame = pd.read_csv(\"./log/{}\".format(file_name))\n",
    "    return data_frame\n",
    "\n",
    "def show_plots(df, y_axis_names):\n",
    "    nrows = len(y_axis_names)\n",
    "    fig, axes = plt.subplots(nrows=nrows, ncols=1, figsize=(10, 20))\n",
    "    for i, name in enumerate(y_axis_names):\n",
    "        df.plot(x='time', y=name, ax=axes[i], legend=False)"
   ]
  },
  {
   "cell_type": "code",
   "execution_count": 27,
   "metadata": {},
   "outputs": [
    {
     "ename": "SyntaxError",
     "evalue": "invalid syntax (<ipython-input-27-75ec35a85161>, line 2)",
     "output_type": "error",
     "traceback": [
      "\u001b[0;36m  File \u001b[0;32m\"<ipython-input-27-75ec35a85161>\"\u001b[0;36m, line \u001b[0;32m2\u001b[0m\n\u001b[0;31m    default_indexes = ['ax', 'ay', 'az', 'gr', 'gp', 'gy')\u001b[0m\n\u001b[0m                                                         ^\u001b[0m\n\u001b[0;31mSyntaxError\u001b[0m\u001b[0;31m:\u001b[0m invalid syntax\n"
     ]
    }
   ],
   "source": [
    "df = load_file('yaw_wave_active.csv')\n",
    "default_indexes = ['ax', 'ay', 'az', 'gr', 'gp', 'gy']\n",
    "show_plots(df, default_indexes)"
   ]
  },
  {
   "cell_type": "code",
   "execution_count": null,
   "metadata": {},
   "outputs": [],
   "source": []
  },
  {
   "cell_type": "code",
   "execution_count": null,
   "metadata": {},
   "outputs": [],
   "source": []
  }
 ],
 "metadata": {
  "kernelspec": {
   "display_name": "Python 2",
   "language": "python",
   "name": "python2"
  },
  "language_info": {
   "codemirror_mode": {
    "name": "ipython",
    "version": 2
   },
   "file_extension": ".py",
   "mimetype": "text/x-python",
   "name": "python",
   "nbconvert_exporter": "python",
   "pygments_lexer": "ipython2",
   "version": "2.7.12"
  }
 },
 "nbformat": 4,
 "nbformat_minor": 2
}
